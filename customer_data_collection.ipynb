{
 "cells": [
  {
   "cell_type": "markdown",
   "metadata": {},
   "source": [
    "\n",
    "1. Pierwsze źródło danych to dane o klientach. Na szczęście zespół, który zajmuje się klientami, wie co robi i wszystkie dane dostępne są w bazie danych (`zad_domowe__clients.db` w tabeli `clients`).\n",
    "2. Drugie źródło danych to dane o produktach. W tym przypadku dane dostępne są w pliku CSV (`zad_domowe__products.csv`).\n",
    "3. Ostatnie źródło danych to dane o zamówieniach / fakturach. Tutaj niestety mamy problem. Okazuje się, że klient wszystkie faktury ma w postaci zrzutów z ekranu (pliki `zad_domowe__invoice_1.png`, `zad_domowe__invoice_2.png` etc.). \n",
    "\n",
    "Twoim zadaniem jest połączenie tych danych w jeden plik CSV, który będzie zawierał informacje o kliencie, produkcie i fakturze. Przygotuj plik CSV, który zawiera tylko niezbędne kolumny, nie ma żadnych kolumn powtórzonych. \n",
    "\n",
    "Jak rezultat wyciągania danych z faktur chcemy mieć w każdym wierszu informacje o zakupionym produkcie, ilości, kliencie, cenie jednostkowej.\n",
    "\n",
    "Początek kodu znajdziesz w tym notebooku."
   ]
  },
  {
   "cell_type": "code",
   "execution_count": null,
   "metadata": {},
   "outputs": [],
   "source": [
    "from pathlib import Path\n",
    "import pandas as pd\n",
    "import sqlite3\n",
    "import base64\n",
    "from getpass import getpass\n",
    "from datetime import date\n",
    "import instructor\n",
    "from pydantic import BaseModel\n",
    "from openai import OpenAI"
   ]
  },
  {
   "cell_type": "code",
   "execution_count": null,
   "metadata": {},
   "outputs": [],
   "source": [
    "# będziemy potrzebować klucza API do OpenAI żeby odczytać dane z faktur\n",
    "openai_key = getpass(\"OpenAI key: \")"
   ]
  },
  {
   "cell_type": "markdown",
   "metadata": {},
   "source": [
    "## Czytamy dane klientów"
   ]
  },
  {
   "cell_type": "code",
   "execution_count": null,
   "metadata": {},
   "outputs": [],
   "source": [
    "# TUTAJ WPISZ SWÓJ KOD\n",
    "clients_df = ..."
   ]
  },
  {
   "cell_type": "markdown",
   "metadata": {},
   "source": [
    "## Czytamy dane produktów"
   ]
  },
  {
   "cell_type": "code",
   "execution_count": null,
   "metadata": {},
   "outputs": [],
   "source": [
    "# TUTAJ WPISZ SWÓJ KOD\n",
    "products_df = ..."
   ]
  },
  {
   "cell_type": "markdown",
   "metadata": {},
   "source": [
    "## Czytamy dane faktur"
   ]
  },
  {
   "cell_type": "code",
   "execution_count": null,
   "metadata": {},
   "outputs": [],
   "source": [
    "DATA_PATH = Path('.')"
   ]
  },
  {
   "cell_type": "code",
   "execution_count": null,
   "metadata": {},
   "outputs": [],
   "source": [
    "# na szczęście mamy już strukturę którą chcemy pobrać z faktur\n",
    "class InvoiceInfoItem(BaseModel):\n",
    "    description: str\n",
    "    product_id: int\n",
    "    quantity: int\n",
    "    price: float\n",
    "\n",
    "\n",
    "class InvoiceInfo(BaseModel):\n",
    "    company_name: str\n",
    "    customer_id: int\n",
    "    customer_name: str\n",
    "    invoice_number: int\n",
    "    date: date\n",
    "    # mamy tutaj do czynienia z listą elementów, więc danymi zagnieżdżonymi!\n",
    "    items: list[InvoiceInfoItem]\n",
    "\n",
    "\n",
    "instructor_openai_client = instructor.from_openai(OpenAI(api_key=openai_key))\n",
    "orders = []\n",
    "for image_path in sorted(DATA_PATH.glob(\"invoice_*.png\")):\n",
    "    print(f\"Processing {image_path}\")\n",
    "    with open(image_path, \"rb\") as f:\n",
    "        image_data = base64.b64encode(f.read()).decode('utf-8')\n",
    "\n",
    "    # UWAGA! tutaj brakuje kodu!!! Co powinniśmy tutaj zrobić?\n",
    "    invoice_info = ...\n",
    "\n",
    "    invoice_data = invoice_info.model_dump()\n",
    "    for item in invoice_data[\"items\"]:\n",
    "        order = {\n",
    "            \"company_name\": invoice_data[\"company_name\"],\n",
    "            \"customer_id\": invoice_data[\"customer_id\"],\n",
    "            \"customer_name\": invoice_data[\"customer_name\"],\n",
    "            \"invoice_number\": invoice_data[\"invoice_number\"],\n",
    "            \"date\": invoice_data[\"date\"],\n",
    "            \"description\": item[\"description\"],\n",
    "            \"product_id\": item[\"product_id\"],\n",
    "            \"quantity\": item[\"quantity\"],\n",
    "            \"price\": item[\"price\"],\n",
    "        }\n",
    "        orders.append(order)\n",
    "\n",
    "orders_df = pd.DataFrame(orders)"
   ]
  },
  {
   "cell_type": "markdown",
   "metadata": {},
   "source": [
    "## Łączenie danych"
   ]
  },
  {
   "cell_type": "code",
   "execution_count": null,
   "metadata": {},
   "outputs": [],
   "source": [
    "company_df = ..."
   ]
  },
  {
   "cell_type": "code",
   "execution_count": null,
   "metadata": {},
   "outputs": [],
   "source": []
  }
 ],
 "metadata": {
  "kernelspec": {
   "display_name": "od_zera_do_ai",
   "language": "python",
   "name": "python3"
  },
  "language_info": {
   "codemirror_mode": {
    "name": "ipython",
    "version": 3
   },
   "file_extension": ".py",
   "mimetype": "text/x-python",
   "name": "python",
   "nbconvert_exporter": "python",
   "pygments_lexer": "ipython3",
   "version": "3.11.11"
  }
 },
 "nbformat": 4,
 "nbformat_minor": 4
}
